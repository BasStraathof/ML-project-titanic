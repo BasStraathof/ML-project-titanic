{
 "cells": [
  {
   "cell_type": "markdown",
   "metadata": {},
   "source": [
    "# Predicting survival on the Titanic using sklearn's Decision Trees and Support Vector Machine\n",
    "\n",
    "## Contributors: Philip Hartout, Vincent Roest & Bas Straathof\n",
    "\n",
    "\n",
    "### Kaggle competition description\n",
    "\n",
    "The sinking of the RMS Titanic is one of the most infamous shipwrecks in history.  On April 15, 1912, during her maiden voyage, the Titanic sank after colliding with an iceberg, killing 1502 out of 2224 passengers and crew. This sensational tragedy shocked the international community and led to better safety regulations for ships.\n",
    "\n",
    "One of the reasons that the shipwreck led to such loss of life was that there were not enough lifeboats for the passengers and crew. Although there was some element of luck involved in surviving the sinking, some groups of people were more likely to survive than others, such as women, children, and the upper-class.\n",
    "\n",
    "The challenge is to complete the analysis of what sorts of people were likely to survive, using machine learning tools to predict which passengers survived the tragedy."
   ]
  },
  {
   "cell_type": "markdown",
   "metadata": {},
   "source": [
    "# Note:\n",
    "## The output underneath corresponds to the results evaluated in the report. The results are not reproducible, and running this notebook again in its entirity will take about 2 hours."
   ]
  },
  {
   "cell_type": "markdown",
   "metadata": {},
   "source": [
    "#### Required packages\n"
   ]
  },
  {
   "cell_type": "code",
   "execution_count": 23,
   "metadata": {
    "collapsed": false
   },
   "outputs": [],
   "source": [
    "# For data analysis and creating a convenient data frame\n",
    "import pandas as pd\n",
    "\n",
    "# For data pre-processing\n",
    "from scipy.stats import mode\n",
    "\n",
    "# For mathematics\n",
    "import math\n",
    "import numpy as np\n",
    "from __future__ import division\n",
    "%matplotlib inline\n",
    "\n",
    "# For classification\n",
    "from sklearn.cross_validation import train_test_split\n",
    "from sklearn.preprocessing import StandardScaler\n",
    "\n",
    "# parameter estimation\n",
    "from sklearn.grid_search import GridSearchCV\n",
    "\n",
    "# For Decision Tree classifier\n",
    "from sklearn.tree import DecisionTreeClassifier\n",
    "\n",
    "# For decision tree visualisation\n",
    "from sklearn import tree\n",
    "\n",
    "# For Random forest classifier\n",
    "from sklearn.ensemble import RandomForestClassifier\n",
    "\n",
    "# For SVM classifier\n",
    "from sklearn.svm import SVC\n",
    "\n",
    "# For learning curves\n",
    "import matplotlib.pyplot as plt\n",
    "from sklearn.learning_curve import learning_curve\n",
    "\n",
    "# Confusion matrix requirements\n",
    "from sklearn.metrics import accuracy_score\n",
    "from sklearn import metrics\n",
    "from sklearn.metrics import classification_report\n",
    "\n",
    "# ROC curve\n",
    "from sklearn.metrics import roc_curve\n",
    "\n",
    "# Pipline\n",
    "from sklearn.pipeline import Pipeline"
   ]
  },
  {
   "cell_type": "markdown",
   "metadata": {},
   "source": [
    "## Pre-processing the data\n",
    "\n",
    "\n",
    "#### Reading the data"
   ]
  },
  {
   "cell_type": "code",
   "execution_count": 24,
   "metadata": {
    "collapsed": false
   },
   "outputs": [],
   "source": [
    "df = pd.read_csv('train.csv', index_col='PassengerId')"
   ]
  },
  {
   "cell_type": "markdown",
   "metadata": {},
   "source": [
    "#### Data visualisation\n",
    "\n"
   ]
  },
  {
   "cell_type": "code",
   "execution_count": 25,
   "metadata": {
    "collapsed": false
   },
   "outputs": [
    {
     "data": {
      "text/html": [
       "<div>\n",
       "<table border=\"1\" class=\"dataframe\">\n",
       "  <thead>\n",
       "    <tr style=\"text-align: right;\">\n",
       "      <th></th>\n",
       "      <th>Survived</th>\n",
       "      <th>Pclass</th>\n",
       "      <th>Name</th>\n",
       "      <th>Sex</th>\n",
       "      <th>Age</th>\n",
       "      <th>SibSp</th>\n",
       "      <th>Parch</th>\n",
       "      <th>Ticket</th>\n",
       "      <th>Fare</th>\n",
       "      <th>Cabin</th>\n",
       "      <th>Embarked</th>\n",
       "    </tr>\n",
       "    <tr>\n",
       "      <th>PassengerId</th>\n",
       "      <th></th>\n",
       "      <th></th>\n",
       "      <th></th>\n",
       "      <th></th>\n",
       "      <th></th>\n",
       "      <th></th>\n",
       "      <th></th>\n",
       "      <th></th>\n",
       "      <th></th>\n",
       "      <th></th>\n",
       "      <th></th>\n",
       "    </tr>\n",
       "  </thead>\n",
       "  <tbody>\n",
       "    <tr>\n",
       "      <th>1</th>\n",
       "      <td>0</td>\n",
       "      <td>3</td>\n",
       "      <td>Braund, Mr. Owen Harris</td>\n",
       "      <td>male</td>\n",
       "      <td>22.0</td>\n",
       "      <td>1</td>\n",
       "      <td>0</td>\n",
       "      <td>A/5 21171</td>\n",
       "      <td>7.2500</td>\n",
       "      <td>NaN</td>\n",
       "      <td>S</td>\n",
       "    </tr>\n",
       "    <tr>\n",
       "      <th>2</th>\n",
       "      <td>1</td>\n",
       "      <td>1</td>\n",
       "      <td>Cumings, Mrs. John Bradley (Florence Briggs Th...</td>\n",
       "      <td>female</td>\n",
       "      <td>38.0</td>\n",
       "      <td>1</td>\n",
       "      <td>0</td>\n",
       "      <td>PC 17599</td>\n",
       "      <td>71.2833</td>\n",
       "      <td>C85</td>\n",
       "      <td>C</td>\n",
       "    </tr>\n",
       "    <tr>\n",
       "      <th>3</th>\n",
       "      <td>1</td>\n",
       "      <td>3</td>\n",
       "      <td>Heikkinen, Miss. Laina</td>\n",
       "      <td>female</td>\n",
       "      <td>26.0</td>\n",
       "      <td>0</td>\n",
       "      <td>0</td>\n",
       "      <td>STON/O2. 3101282</td>\n",
       "      <td>7.9250</td>\n",
       "      <td>NaN</td>\n",
       "      <td>S</td>\n",
       "    </tr>\n",
       "  </tbody>\n",
       "</table>\n",
       "</div>"
      ],
      "text/plain": [
       "             Survived  Pclass  \\\n",
       "PassengerId                     \n",
       "1                   0       3   \n",
       "2                   1       1   \n",
       "3                   1       3   \n",
       "\n",
       "                                                          Name     Sex   Age  \\\n",
       "PassengerId                                                                    \n",
       "1                                      Braund, Mr. Owen Harris    male  22.0   \n",
       "2            Cumings, Mrs. John Bradley (Florence Briggs Th...  female  38.0   \n",
       "3                                       Heikkinen, Miss. Laina  female  26.0   \n",
       "\n",
       "             SibSp  Parch            Ticket     Fare Cabin Embarked  \n",
       "PassengerId                                                          \n",
       "1                1      0         A/5 21171   7.2500   NaN        S  \n",
       "2                1      0          PC 17599  71.2833   C85        C  \n",
       "3                0      0  STON/O2. 3101282   7.9250   NaN        S  "
      ]
     },
     "execution_count": 25,
     "metadata": {},
     "output_type": "execute_result"
    }
   ],
   "source": [
    "# Initially there are 11 features in the training set: Survived; Pclass; Name; Sex; Age; SibSp: # of siblings on board;\n",
    "# Parch: # of parents/children on board; Ticket (name); Fare (cost); Cabin; Embarked (in)\n",
    "\n",
    "# Data visualisation\n",
    "df.head(3)"
   ]
  },
  {
   "cell_type": "markdown",
   "metadata": {},
   "source": [
    "#### Number of missing values per feature"
   ]
  },
  {
   "cell_type": "code",
   "execution_count": 26,
   "metadata": {
    "collapsed": false
   },
   "outputs": [
    {
     "name": "stdout",
     "output_type": "stream",
     "text": [
      "Number of missing values for 'Survived' = 0\n",
      "\n",
      "Number of missing values for 'Pclass' = 0\n",
      "\n",
      "Number of missing values for 'Name' = 0\n",
      "\n",
      "Number of missing values for 'Sex' = 0\n",
      "\n",
      "Number of missing values for 'Age' = 177\n",
      "\n",
      "Number of missing values for 'SibSp' = 0\n",
      "\n",
      "Number of missing values for 'Parch' = 0\n",
      "\n",
      "Number of missing values for 'Ticket' = 0\n",
      "\n",
      "Number of missing values for 'Fare' = 0\n",
      "\n",
      "Number of missing values for 'Cabin' = 687\n",
      "\n",
      "Number of missing values for 'Embarked' = 2\n",
      "\n"
     ]
    }
   ],
   "source": [
    "feature_list = [\"Survived\", \"Pclass\", \"Name\", \"Sex\", \"Age\", \"SibSp\", \"Parch\", \"Ticket\", \"Fare\", \"Cabin\", \"Embarked\"]\n",
    "\n",
    "for i in range(len(feature_list)):\n",
    "    k = 0\n",
    "    num_list = [0,0,0,0,0,0,0,0,0,0,0]\n",
    "    for j in range(len(df)):\n",
    "        if type((df[feature_list[i]][j+1])) == np.float64 or type((df[feature_list[i]][j+1])) == float:\n",
    "            if math.isnan(df[feature_list[i]][j+1]):\n",
    "                k += 1\n",
    "    num_list[i] = k\n",
    "    print \"Number of missing values for '%s' = %i\\n\" % (feature_list[i], num_list[i])"
   ]
  },
  {
   "cell_type": "markdown",
   "metadata": {},
   "source": [
    "### Survivors vs victims ratio\n",
    "\n",
    "The Titanic hosted 2224 people when it hit the iceberg, and only 710 people were saved. Hence, the ratio of people\n",
    "that survived the disaster is approximately 31.9%. The data set at hand only contains 892 passengers, and in the cell below we compute the survival ratio of this data set."
   ]
  },
  {
   "cell_type": "code",
   "execution_count": 27,
   "metadata": {
    "collapsed": false
   },
   "outputs": [
    {
     "name": "stdout",
     "output_type": "stream",
     "text": [
      "The survival ratio of this data set is 38.38 percent.\n"
     ]
    }
   ],
   "source": [
    "passengers = len(df['Survived'])\n",
    "survived = len([k for i in range(len(df['Survived'])) if df['Survived'][i+1] == 1])\n",
    "\n",
    "print \"The survival ratio of this data set is %s percent.\" % round(survived / passengers * 100, 2)\n"
   ]
  },
  {
   "cell_type": "markdown",
   "metadata": {},
   "source": [
    "##### Dropping \"Name\", \"Ticket\", and \"Cabin\""
   ]
  },
  {
   "cell_type": "code",
   "execution_count": 28,
   "metadata": {
    "collapsed": true
   },
   "outputs": [],
   "source": [
    "# For the classification of survivors versus victims, the name of a passenger, as well as the name of the ticket\n",
    "# do not seem relevant for classification, thus we can drop them. Also, as can be seen in the output above,\n",
    "# there is hardly any data about cabins, so we drop that feature as well.\n",
    "df = df.drop(['Name', 'Ticket', 'Cabin'], axis=1)"
   ]
  },
  {
   "cell_type": "code",
   "execution_count": 29,
   "metadata": {
    "collapsed": false
   },
   "outputs": [
    {
     "data": {
      "text/html": [
       "<div>\n",
       "<table border=\"1\" class=\"dataframe\">\n",
       "  <thead>\n",
       "    <tr style=\"text-align: right;\">\n",
       "      <th></th>\n",
       "      <th>Survived</th>\n",
       "      <th>Pclass</th>\n",
       "      <th>Sex</th>\n",
       "      <th>Age</th>\n",
       "      <th>SibSp</th>\n",
       "      <th>Parch</th>\n",
       "      <th>Fare</th>\n",
       "      <th>Embarked</th>\n",
       "    </tr>\n",
       "    <tr>\n",
       "      <th>PassengerId</th>\n",
       "      <th></th>\n",
       "      <th></th>\n",
       "      <th></th>\n",
       "      <th></th>\n",
       "      <th></th>\n",
       "      <th></th>\n",
       "      <th></th>\n",
       "      <th></th>\n",
       "    </tr>\n",
       "  </thead>\n",
       "  <tbody>\n",
       "    <tr>\n",
       "      <th>1</th>\n",
       "      <td>0</td>\n",
       "      <td>3</td>\n",
       "      <td>male</td>\n",
       "      <td>22.0</td>\n",
       "      <td>1</td>\n",
       "      <td>0</td>\n",
       "      <td>7.2500</td>\n",
       "      <td>S</td>\n",
       "    </tr>\n",
       "    <tr>\n",
       "      <th>2</th>\n",
       "      <td>1</td>\n",
       "      <td>1</td>\n",
       "      <td>female</td>\n",
       "      <td>38.0</td>\n",
       "      <td>1</td>\n",
       "      <td>0</td>\n",
       "      <td>71.2833</td>\n",
       "      <td>C</td>\n",
       "    </tr>\n",
       "    <tr>\n",
       "      <th>3</th>\n",
       "      <td>1</td>\n",
       "      <td>3</td>\n",
       "      <td>female</td>\n",
       "      <td>26.0</td>\n",
       "      <td>0</td>\n",
       "      <td>0</td>\n",
       "      <td>7.9250</td>\n",
       "      <td>S</td>\n",
       "    </tr>\n",
       "  </tbody>\n",
       "</table>\n",
       "</div>"
      ],
      "text/plain": [
       "             Survived  Pclass     Sex   Age  SibSp  Parch     Fare Embarked\n",
       "PassengerId                                                                \n",
       "1                   0       3    male  22.0      1      0   7.2500        S\n",
       "2                   1       1  female  38.0      1      0  71.2833        C\n",
       "3                   1       3  female  26.0      0      0   7.9250        S"
      ]
     },
     "execution_count": 29,
     "metadata": {},
     "output_type": "execute_result"
    }
   ],
   "source": [
    "# Now the data looks like:\n",
    "df.head(3)"
   ]
  },
  {
   "cell_type": "markdown",
   "metadata": {},
   "source": [
    "##### Completing \"Age\" column"
   ]
  },
  {
   "cell_type": "code",
   "execution_count": 30,
   "metadata": {
    "collapsed": false
   },
   "outputs": [
    {
     "name": "stdout",
     "output_type": "stream",
     "text": [
      "29.6991176471\n"
     ]
    }
   ],
   "source": [
    "# In the data set, not all age fields are filled, but our classifiers need existant (numerical) input data.\n",
    "# Therefore, let's assign the mean age to those fields, which will not impact the classifiers.\n",
    "age_mean = df['Age'].mean()\n",
    "df['Age'] = df['Age'].fillna(age_mean)\n",
    "print age_mean"
   ]
  },
  {
   "cell_type": "markdown",
   "metadata": {},
   "source": [
    "##### Pre-processing the embarkment column"
   ]
  },
  {
   "cell_type": "code",
   "execution_count": 31,
   "metadata": {
    "collapsed": false
   },
   "outputs": [
    {
     "data": {
      "text/html": [
       "<div>\n",
       "<table border=\"1\" class=\"dataframe\">\n",
       "  <thead>\n",
       "    <tr style=\"text-align: right;\">\n",
       "      <th></th>\n",
       "      <th>Survived</th>\n",
       "      <th>Pclass</th>\n",
       "      <th>Sex</th>\n",
       "      <th>Age</th>\n",
       "      <th>SibSp</th>\n",
       "      <th>Parch</th>\n",
       "      <th>Fare</th>\n",
       "      <th>Embarked_C</th>\n",
       "      <th>Embarked_Q</th>\n",
       "      <th>Embarked_S</th>\n",
       "    </tr>\n",
       "    <tr>\n",
       "      <th>PassengerId</th>\n",
       "      <th></th>\n",
       "      <th></th>\n",
       "      <th></th>\n",
       "      <th></th>\n",
       "      <th></th>\n",
       "      <th></th>\n",
       "      <th></th>\n",
       "      <th></th>\n",
       "      <th></th>\n",
       "      <th></th>\n",
       "    </tr>\n",
       "  </thead>\n",
       "  <tbody>\n",
       "    <tr>\n",
       "      <th>1</th>\n",
       "      <td>0</td>\n",
       "      <td>3</td>\n",
       "      <td>male</td>\n",
       "      <td>22.0</td>\n",
       "      <td>1</td>\n",
       "      <td>0</td>\n",
       "      <td>7.2500</td>\n",
       "      <td>0.0</td>\n",
       "      <td>0.0</td>\n",
       "      <td>1.0</td>\n",
       "    </tr>\n",
       "    <tr>\n",
       "      <th>2</th>\n",
       "      <td>1</td>\n",
       "      <td>1</td>\n",
       "      <td>female</td>\n",
       "      <td>38.0</td>\n",
       "      <td>1</td>\n",
       "      <td>0</td>\n",
       "      <td>71.2833</td>\n",
       "      <td>1.0</td>\n",
       "      <td>0.0</td>\n",
       "      <td>0.0</td>\n",
       "    </tr>\n",
       "    <tr>\n",
       "      <th>3</th>\n",
       "      <td>1</td>\n",
       "      <td>3</td>\n",
       "      <td>female</td>\n",
       "      <td>26.0</td>\n",
       "      <td>0</td>\n",
       "      <td>0</td>\n",
       "      <td>7.9250</td>\n",
       "      <td>0.0</td>\n",
       "      <td>0.0</td>\n",
       "      <td>1.0</td>\n",
       "    </tr>\n",
       "  </tbody>\n",
       "</table>\n",
       "</div>"
      ],
      "text/plain": [
       "             Survived  Pclass     Sex   Age  SibSp  Parch     Fare  \\\n",
       "PassengerId                                                          \n",
       "1                   0       3    male  22.0      1      0   7.2500   \n",
       "2                   1       1  female  38.0      1      0  71.2833   \n",
       "3                   1       3  female  26.0      0      0   7.9250   \n",
       "\n",
       "             Embarked_C  Embarked_Q  Embarked_S  \n",
       "PassengerId                                      \n",
       "1                   0.0         0.0         1.0  \n",
       "2                   1.0         0.0         0.0  \n",
       "3                   0.0         0.0         1.0  "
      ]
     },
     "execution_count": 31,
     "metadata": {},
     "output_type": "execute_result"
    }
   ],
   "source": [
    "# Later, we will prove why it is important to know where passengers embarked on the RMS Titanic.\n",
    "# Using mode from SciPy, the locations of embarkment can be split into three columns.\n",
    "# Passengers embarked from S = Southampton, C = Cherbrough and Q = Queenstown.\n",
    "# Now, if a passenger embarked at Queenstown, there is a one in the column for Q and a 0 in the columns of S and C.\n",
    "mode_embarked = mode(df['Embarked'])[0][0]\n",
    "df['Embarked'] = df['Embarked'].fillna(mode_embarked)\n",
    "\n",
    "# We concatenate the three columns to our data frame.\n",
    "df = pd.concat([df, pd.get_dummies(df['Embarked'], prefix='Embarked')], axis=1)\n",
    "# And we can drop the initial column for Embarked\n",
    "df = df.drop(['Embarked'], axis=1)\n",
    "# Now, the data corresponding to the first three passengers in the data set looks like:\n",
    "df.head(3)\n"
   ]
  },
  {
   "cell_type": "markdown",
   "metadata": {},
   "source": [
    "##### Pre-processing the gender column"
   ]
  },
  {
   "cell_type": "code",
   "execution_count": 32,
   "metadata": {
    "collapsed": false
   },
   "outputs": [
    {
     "data": {
      "text/html": [
       "<div>\n",
       "<table border=\"1\" class=\"dataframe\">\n",
       "  <thead>\n",
       "    <tr style=\"text-align: right;\">\n",
       "      <th></th>\n",
       "      <th>Survived</th>\n",
       "      <th>Pclass</th>\n",
       "      <th>Age</th>\n",
       "      <th>SibSp</th>\n",
       "      <th>Parch</th>\n",
       "      <th>Fare</th>\n",
       "      <th>Embarked_C</th>\n",
       "      <th>Embarked_Q</th>\n",
       "      <th>Embarked_S</th>\n",
       "      <th>Gender</th>\n",
       "    </tr>\n",
       "    <tr>\n",
       "      <th>PassengerId</th>\n",
       "      <th></th>\n",
       "      <th></th>\n",
       "      <th></th>\n",
       "      <th></th>\n",
       "      <th></th>\n",
       "      <th></th>\n",
       "      <th></th>\n",
       "      <th></th>\n",
       "      <th></th>\n",
       "      <th></th>\n",
       "    </tr>\n",
       "  </thead>\n",
       "  <tbody>\n",
       "    <tr>\n",
       "      <th>1</th>\n",
       "      <td>0</td>\n",
       "      <td>3</td>\n",
       "      <td>22.0</td>\n",
       "      <td>1</td>\n",
       "      <td>0</td>\n",
       "      <td>7.2500</td>\n",
       "      <td>0.0</td>\n",
       "      <td>0.0</td>\n",
       "      <td>1.0</td>\n",
       "      <td>1</td>\n",
       "    </tr>\n",
       "    <tr>\n",
       "      <th>2</th>\n",
       "      <td>1</td>\n",
       "      <td>1</td>\n",
       "      <td>38.0</td>\n",
       "      <td>1</td>\n",
       "      <td>0</td>\n",
       "      <td>71.2833</td>\n",
       "      <td>1.0</td>\n",
       "      <td>0.0</td>\n",
       "      <td>0.0</td>\n",
       "      <td>0</td>\n",
       "    </tr>\n",
       "    <tr>\n",
       "      <th>3</th>\n",
       "      <td>1</td>\n",
       "      <td>3</td>\n",
       "      <td>26.0</td>\n",
       "      <td>0</td>\n",
       "      <td>0</td>\n",
       "      <td>7.9250</td>\n",
       "      <td>0.0</td>\n",
       "      <td>0.0</td>\n",
       "      <td>1.0</td>\n",
       "      <td>0</td>\n",
       "    </tr>\n",
       "  </tbody>\n",
       "</table>\n",
       "</div>"
      ],
      "text/plain": [
       "             Survived  Pclass   Age  SibSp  Parch     Fare  Embarked_C  \\\n",
       "PassengerId                                                              \n",
       "1                   0       3  22.0      1      0   7.2500         0.0   \n",
       "2                   1       1  38.0      1      0  71.2833         1.0   \n",
       "3                   1       3  26.0      0      0   7.9250         0.0   \n",
       "\n",
       "             Embarked_Q  Embarked_S  Gender  \n",
       "PassengerId                                  \n",
       "1                   0.0         1.0       1  \n",
       "2                   0.0         0.0       0  \n",
       "3                   0.0         1.0       0  "
      ]
     },
     "execution_count": 32,
     "metadata": {},
     "output_type": "execute_result"
    }
   ],
   "source": [
    "# Our classifiers need numerical data, hence, we map gender to an integer in the following way:\n",
    "# female --> 0, male --> 1\n",
    "df['Gender'] = df['Sex'].map({'female': 0, 'male': 1}).astype(int)\n",
    "\n",
    "# We should now drop the old \"Sex\" feature\n",
    "df = df.drop(['Sex'], axis=1)\n",
    "\n",
    "# Our data frame now looks like this:\n",
    "df.head(3)\n"
   ]
  },
  {
   "cell_type": "markdown",
   "metadata": {},
   "source": [
    "##### Training set"
   ]
  },
  {
   "cell_type": "code",
   "execution_count": 33,
   "metadata": {
    "collapsed": false
   },
   "outputs": [],
   "source": [
    "# For the training set, we want to delete the passenger id indexation.\n",
    "# This can be done by transforming columns to lists, removing the first list, and subsequently transforming\n",
    "# everything to a column dataframe again.\n",
    "\n",
    "survival_labels = df.values[:,0]\n",
    "columns = df.columns.tolist()\n",
    "columns = columns[1:]\n",
    "df = df[columns]\n",
    "data_set = df.values"
   ]
  },
  {
   "cell_type": "markdown",
   "metadata": {},
   "source": [
    "##### Working features after preprocessing"
   ]
  },
  {
   "cell_type": "code",
   "execution_count": 34,
   "metadata": {
    "collapsed": false
   },
   "outputs": [
    {
     "data": {
      "text/plain": [
       "['Pclass',\n",
       " 'Age',\n",
       " 'SibSp',\n",
       " 'Parch',\n",
       " 'Fare',\n",
       " 'Embarked_C',\n",
       " 'Embarked_Q',\n",
       " 'Embarked_S',\n",
       " 'Gender']"
      ]
     },
     "execution_count": 34,
     "metadata": {},
     "output_type": "execute_result"
    }
   ],
   "source": [
    "features = df.columns.tolist()\n",
    "features"
   ]
  },
  {
   "cell_type": "markdown",
   "metadata": {},
   "source": [
    "## Decision Tree classifier"
   ]
  },
  {
   "cell_type": "code",
   "execution_count": 35,
   "metadata": {
    "collapsed": false
   },
   "outputs": [
    {
     "name": "stdout",
     "output_type": "stream",
     "text": [
      "- The accuracy on the training set is 87.64 percent.\n",
      "\n",
      "- These are the mean and standard deviation over the folds, and a dictionary of the best parameters:\n",
      "[mean: 0.83427, std: 0.02542, params: {'max_features': None, 'min_samples_split': 4, 'presort': True, 'max_depth': 7, 'min_samples_leaf': 1}]\n",
      "\n",
      "- The best Decision Tree estimator for the Titanic survival classification problem is:\n",
      "DecisionTreeClassifier(class_weight=None, criterion='gini', max_depth=7,\n",
      "            max_features=None, max_leaf_nodes=None, min_samples_leaf=1,\n",
      "            min_samples_split=4, min_weight_fraction_leaf=0.0,\n",
      "            presort=True, random_state=None, splitter='best')\n",
      "\n",
      " This is the percental importance of the features:\n",
      "[ 0.19047683  0.11477702  0.05789761  0.          0.18729827  0.00638123\n",
      "  0.          0.00932169  0.43384735]\n"
     ]
    }
   ],
   "source": [
    "# Manually tweaking parameters for GridSearchCV\n",
    "parameter_grid = {\n",
    "    'max_features': [None, 'sqrt', 'log2'], # maximum allowed number of features\n",
    "    'max_depth': [None, 9, 8, 7, 6, 5], # maximum depth of the tree --> pruning\n",
    "    'min_samples_split': [1, 2, 3, 4, 5, 6, 7, 8], # minimum number of samples to split on \n",
    "    'min_samples_leaf': [1, 2, 3, 4, 5, 6, 7], # the minimum number of samples required to be at a leaf node\n",
    "    'presort': [True, False], # Presorting on features\n",
    "}\n",
    "\n",
    "# Decision Tree classifier with above parameters and a 7-fold crossvalidation set\n",
    "clf_dt = GridSearchCV(DecisionTreeClassifier(), parameter_grid, cv = 7, verbose = 0)\n",
    "\n",
    "# Splitting the data set into a training set (80%) and a test set (20%)\n",
    "train_x_dt, test_x_dt, train_y_dt, test_y_dt = train_test_split(data_set, \n",
    "                                                    survival_labels, \n",
    "                                                    test_size = 0.2,\n",
    "                                                    random_state = None) # seed used by the random number generator\n",
    "\n",
    "# Fit trains the Decision Tree on the training set\n",
    "clf_dt = clf_dt.fit(train_x_dt, train_y_dt)\n",
    "\n",
    "# The best Decision Tree estimator\n",
    "best_dt_estimator = clf_dt.best_estimator_\n",
    "\n",
    "# Printing the score on the training set\n",
    "print \"- The accuracy on the training set is %s percent.\\n\" % round(clf_dt.score(train_x_dt, train_y_dt) * 100, 2)\n",
    "\n",
    "# The mean and standard deviation of the mean over the folds, and the best parameters.\n",
    "print \"- These are the mean and standard deviation over the folds, and a dictionary of the best parameters:\"\n",
    "print sorted(clf_dt.grid_scores_, key=lambda x: x.mean_validation_score)[-1:]\n",
    "\n",
    "# Printing the best Decision Tree estimator.\n",
    "print \"\\n- The best Decision Tree estimator for the Titanic survival classification problem is:\"\n",
    "print best_dt_estimator\n",
    "\n",
    "print \"\\n This is the percental importance of the features:\"\n",
    "print best_dt_estimator.feature_importances_\n",
    "\n",
    "# Predict classifies the unseen examples (i.e. examples from the test set) on the best found classifier.\n",
    "predict_y_dt = clf_dt.predict(test_x_dt)"
   ]
  },
  {
   "cell_type": "markdown",
   "metadata": {},
   "source": [
    "###  ERROR ANALYSIS OF THE DECISION TREE CLASSIFIER"
   ]
  },
  {
   "cell_type": "code",
   "execution_count": 36,
   "metadata": {
    "collapsed": false
   },
   "outputs": [],
   "source": [
    "def error_analysis(test_y, predict_y):\n",
    "    '''This function takes as input the labels of the test set and the predicted values\n",
    "    of the classifier on the test set. The output is the accuracy of the estimator on\n",
    "    the test set, the confusion matrix, and the precision recall matrix.'''\n",
    "    \n",
    "    print (\"- The accuracy on the test set for the best found classifier is %s percent\\n\\n\" %\n",
    "           round(((accuracy_score(test_y, predict_y)) * 100), 2))\n",
    "\n",
    "    confusion_matrix = metrics.confusion_matrix(test_y, predict_y)\n",
    "    print \"CONFUSION MATRIX\\n\"\n",
    "    print \"               actual        \"\n",
    "    print \"       |     0    |    1     \"\n",
    "    print \"     --|----------|---------\"\n",
    "    print (\"     0 | #TP : %d\"%  confusion_matrix[1,1]) + \" | #FP: %d \" % confusion_matrix[0,1]\n",
    "    print \"pred --|----------|---------\"\n",
    "    print \"     1 | #FN : %d\" % confusion_matrix[1,0] + \" | #TN: %d \\n\\n\\n\" % confusion_matrix[0,0]\n",
    "\n",
    "    print \"PRECISION RECALL MATRIX\\n\"\n",
    "    print(classification_report(test_y, \n",
    "                                predict_y, \n",
    "                                target_names = ['Lost', 'Survived']))"
   ]
  },
  {
   "cell_type": "code",
   "execution_count": 37,
   "metadata": {
    "collapsed": false
   },
   "outputs": [
    {
     "name": "stdout",
     "output_type": "stream",
     "text": [
      "This is the error analysis of the best found Decision tree classifier:\n",
      "\n",
      "- The accuracy on the test set for the best found classifier is 85.47 percent\n",
      "\n",
      "\n",
      "CONFUSION MATRIX\n",
      "\n",
      "               actual        \n",
      "       |     0    |    1     \n",
      "     --|----------|---------\n",
      "     0 | #TP : 50 | #FP: 6 \n",
      "pred --|----------|---------\n",
      "     1 | #FN : 20 | #TN: 103 \n",
      "\n",
      "\n",
      "\n",
      "PRECISION RECALL MATRIX\n",
      "\n",
      "             precision    recall  f1-score   support\n",
      "\n",
      "       Lost       0.84      0.94      0.89       109\n",
      "   Survived       0.89      0.71      0.79        70\n",
      "\n",
      "avg / total       0.86      0.85      0.85       179\n",
      "\n"
     ]
    }
   ],
   "source": [
    "print \"This is the error analysis of the best found Decision tree classifier:\\n\"\n",
    "error_analysis(test_y_dt, predict_y_dt)"
   ]
  },
  {
   "cell_type": "markdown",
   "metadata": {},
   "source": [
    "### DECISION TREE VISUALISATION\n",
    "\n",
    "A decision tree can be visualized using the Graphviz (http://www.graphviz.org/) software.\n",
    "We use the best Decision Tree estimator for visualization. Running the code in the cell\n",
    "below creates a .dot file, which can be read using the Graphviz software."
   ]
  },
  {
   "cell_type": "code",
   "execution_count": 38,
   "metadata": {
    "collapsed": true
   },
   "outputs": [],
   "source": [
    "# We refit the training data using the best Decision Tree estimator and export the tree.dot file.\n",
    "decision_tree = best_dt_estimator.fit(train_x_dt, train_y_dt)\n",
    "tree.export_graphviz(decision_tree, out_file='tree.dot', feature_names=features)"
   ]
  },
  {
   "cell_type": "markdown",
   "metadata": {},
   "source": [
    "##  Random Forest Classifier (using 300 trees)\n",
    "It should be noted that the accuracy increases as the number of trees increases, although the incremental gain becomes smaller and smaller as the number of trees grows which, in the end, is outweighed by the computational calculations. Subsequently, we have used three common values of tree number to compute random forests.  "
   ]
  },
  {
   "cell_type": "code",
   "execution_count": 39,
   "metadata": {
    "collapsed": false,
    "scrolled": true
   },
   "outputs": [
    {
     "name": "stdout",
     "output_type": "stream",
     "text": [
      "Fitting 7 folds for each of 378 candidates, totalling 2646 fits\n"
     ]
    },
    {
     "name": "stderr",
     "output_type": "stream",
     "text": [
      "[Parallel(n_jobs=1)]: Done  49 tasks       | elapsed:   31.4s\n",
      "[Parallel(n_jobs=1)]: Done 199 tasks       | elapsed:  2.1min\n",
      "[Parallel(n_jobs=1)]: Done 449 tasks       | elapsed:  4.5min\n",
      "[Parallel(n_jobs=1)]: Done 799 tasks       | elapsed:  7.9min\n",
      "[Parallel(n_jobs=1)]: Done 1249 tasks       | elapsed: 12.2min\n",
      "[Parallel(n_jobs=1)]: Done 1799 tasks       | elapsed: 17.3min\n",
      "[Parallel(n_jobs=1)]: Done 2449 tasks       | elapsed: 23.8min\n",
      "[Parallel(n_jobs=1)]: Done 2646 out of 2646 | elapsed: 25.7min finished\n"
     ]
    },
    {
     "name": "stdout",
     "output_type": "stream",
     "text": [
      "- The accuracy on the training set is 90.31 percent\n",
      "- These are the mean and standard deviation over the folds, and a dictionary of the best parameters:\n",
      "[mean: 0.82163, std: 0.03550, params: {'min_samples_split': 7, 'n_estimators': 300, 'max_depth': 9, 'min_samples_leaf': 2}]\n",
      "\n",
      "- The best Random Forrest estimator for the Titanic survival classification problem is:\n",
      "RandomForestClassifier(bootstrap=True, class_weight=None, criterion='gini',\n",
      "            max_depth=9, max_features='auto', max_leaf_nodes=None,\n",
      "            min_samples_leaf=2, min_samples_split=7,\n",
      "            min_weight_fraction_leaf=0.0, n_estimators=300, n_jobs=1,\n",
      "            oob_score=False, random_state=None, verbose=0,\n",
      "            warm_start=False)\n",
      "\n",
      " This is the percental importance of the features:\n",
      "[ 0.12145232  0.15875543  0.05499178  0.03484205  0.22277588  0.01866741\n",
      "  0.00727207  0.01548303  0.36576003]\n"
     ]
    }
   ],
   "source": [
    "# The parameters that GridSearchCV() tries out in order to find the best estimator\n",
    "parameter_grid = {\n",
    "    'n_estimators': [300], # maximum allowed number of trees\n",
    "    'max_depth': [None, 9, 8, 7, 6, 5], # maximum depth of the tree --> pruning\n",
    "    'min_samples_split': [1, 2, 3, 4, 5, 6, 7, 8, 9], # minimum number of samples to split on \n",
    "    'min_samples_leaf': [1, 2, 3, 4, 5, 6, 7], # minimum number of samples required to be a leaf node\n",
    "    #'oob_score': [True, False], # whether to use out-of-bag samples to estimate the generalization accuracy\n",
    "    # It was found that running 10 Random forests, it is preferable to set the oob_score to false.\n",
    "\n",
    "}\n",
    "\n",
    "# Random Tree classifier with above parameters and a 7-fold crossvalidation set\n",
    "clf_rf = GridSearchCV(RandomForestClassifier(), parameter_grid, cv = 7, verbose = 1)\n",
    "\n",
    "# Splitting the data set into a training set (80%) and a test set (20%)\n",
    "train_x_rf, test_x_rf, train_y_rf, test_y_rf = train_test_split(data_set, \n",
    "                                                    survival_labels, \n",
    "                                                    test_size = 0.20,\n",
    "                                                    random_state = None) # seed used by the random number generator\n",
    "\n",
    "# Fit trains the Decision Tree on the training set\n",
    "clf_rf = clf_rf.fit(train_x_rf, train_y_rf)\n",
    "\n",
    "# Best Random Forest estimator\n",
    "best_rf_estimator = clf_rf.best_estimator_\n",
    "\n",
    "# Printing the score on the training set\n",
    "print \"- The accuracy on the training set is %s percent\" % round(clf_rf.score(train_x_rf, train_y_rf) * 100, 2)\n",
    "\n",
    "# The mean and standard deviation of the mean over the folds, and the best parameters.\n",
    "print \"- These are the mean and standard deviation over the folds, and a dictionary of the best parameters:\"\n",
    "print sorted(clf_rf.grid_scores_, key=lambda x: x.mean_validation_score)[-1:]\n",
    "\n",
    "# Printing the best Decision Tree estimator.\n",
    "print \"\\n- The best Random Forrest estimator for the Titanic survival classification problem is:\"\n",
    "print clf_rf.best_estimator_\n",
    "\n",
    "# Printing the percental importance of the features\n",
    "print \"\\n This is the percental importance of the features:\"\n",
    "print best_rf_estimator.feature_importances_\n",
    "\n",
    "# Predict classifies the unseen examples (i.e. examples from the test set) on the best found classifier.\n",
    "predict_y_rf = clf_rf.predict(test_x_rf)"
   ]
  },
  {
   "cell_type": "markdown",
   "metadata": {},
   "source": [
    "###  ERROR ANALYSIS OF THE RANDOM FORESTS"
   ]
  },
  {
   "cell_type": "code",
   "execution_count": 40,
   "metadata": {
    "collapsed": false
   },
   "outputs": [
    {
     "name": "stdout",
     "output_type": "stream",
     "text": [
      "This is the error analysis of the best found Random Forrest classifier:\n",
      "\n",
      "- The accuracy on the test set for the best found classifier is 83.24 percent\n",
      "\n",
      "\n",
      "CONFUSION MATRIX\n",
      "\n",
      "               actual        \n",
      "       |     0    |    1     \n",
      "     --|----------|---------\n",
      "     0 | #TP : 58 | #FP: 13 \n",
      "pred --|----------|---------\n",
      "     1 | #FN : 17 | #TN: 91 \n",
      "\n",
      "\n",
      "\n",
      "PRECISION RECALL MATRIX\n",
      "\n",
      "             precision    recall  f1-score   support\n",
      "\n",
      "       Lost       0.84      0.88      0.86       104\n",
      "   Survived       0.82      0.77      0.79        75\n",
      "\n",
      "avg / total       0.83      0.83      0.83       179\n",
      "\n"
     ]
    }
   ],
   "source": [
    "print \"This is the error analysis of the best found Random Forrest classifier:\\n\"\n",
    "error_analysis(test_y_rf, predict_y_rf)"
   ]
  },
  {
   "cell_type": "markdown",
   "metadata": {},
   "source": [
    "## Random Forrest with place of embarkation dropped\n",
    "\n",
    "Intuitively one would say that the location of embarkment does not have a big impact on the chance of survival of a passenger. Let's see if this hypothesis is true or not."
   ]
  },
  {
   "cell_type": "code",
   "execution_count": 41,
   "metadata": {
    "collapsed": false
   },
   "outputs": [
    {
     "name": "stdout",
     "output_type": "stream",
     "text": [
      "['Pclass', 'Age', 'SibSp', 'Parch', 'Fare', 'Gender']\n",
      "['Pclass', 'Age', 'SibSp', 'Parch', 'Fare', 'Embarked_C', 'Embarked_Q', 'Embarked_S', 'Gender']\n"
     ]
    }
   ],
   "source": [
    "# Remove the columns for 'Embarked_C', 'Embarked_Q' 'Embarked_S'.\n",
    "columns = columns[0:5] + columns[8:9]\n",
    "df_emb = df[columns]\n",
    "df_emb.head(3)\n",
    "print df_emb.columns.tolist()\n",
    "print df.columns.tolist()\n",
    "\n",
    "# Modified training set\n",
    "train_set_without_embarkment = df_emb.values"
   ]
  },
  {
   "cell_type": "code",
   "execution_count": 42,
   "metadata": {
    "collapsed": false
   },
   "outputs": [
    {
     "name": "stdout",
     "output_type": "stream",
     "text": [
      "Fitting 7 folds for each of 378 candidates, totalling 2646 fits\n"
     ]
    },
    {
     "name": "stderr",
     "output_type": "stream",
     "text": [
      "[Parallel(n_jobs=1)]: Done  49 tasks       | elapsed:   30.0s\n",
      "[Parallel(n_jobs=1)]: Done 199 tasks       | elapsed:  2.0min\n",
      "[Parallel(n_jobs=1)]: Done 449 tasks       | elapsed:  4.4min\n",
      "[Parallel(n_jobs=1)]: Done 799 tasks       | elapsed:  7.7min\n",
      "[Parallel(n_jobs=1)]: Done 1249 tasks       | elapsed: 11.8min\n",
      "[Parallel(n_jobs=1)]: Done 1799 tasks       | elapsed: 16.8min\n",
      "[Parallel(n_jobs=1)]: Done 2449 tasks       | elapsed: 22.7min\n",
      "[Parallel(n_jobs=1)]: Done 2646 out of 2646 | elapsed: 24.5min finished\n"
     ]
    },
    {
     "name": "stdout",
     "output_type": "stream",
     "text": [
      "- The accuracy on the training set is 88.62 percent\n",
      "- These are the mean and standard deviation over the folds, and a dictionary of the best parameters:\n",
      "[mean: 0.84129, std: 0.04112, params: {'min_samples_split': 2, 'n_estimators': 300, 'max_depth': 7, 'min_samples_leaf': 4}]\n",
      "\n",
      "- The best Random Forrest estimator for the Titanic survival classification problem is:\n",
      "RandomForestClassifier(bootstrap=True, class_weight=None, criterion='gini',\n",
      "            max_depth=7, max_features='auto', max_leaf_nodes=None,\n",
      "            min_samples_leaf=2, min_samples_split=6,\n",
      "            min_weight_fraction_leaf=0.0, n_estimators=300, n_jobs=1,\n",
      "            oob_score=False, random_state=None, verbose=0,\n",
      "            warm_start=False)\n",
      "\n",
      " This is the percental importance of the features:\n",
      "[ 0.14080404  0.1481851   0.05008582  0.0396013   0.2232137   0.39811005]\n"
     ]
    }
   ],
   "source": [
    "# The parameters that GridSearchCV() tries out in order to find the best estimator\n",
    "parameter_grid = {\n",
    "    'n_estimators': [300], # maximum allowed number of trees\n",
    "    'max_depth': [None, 9, 8, 7, 6, 5], # maximum depth of the tree --> pruning\n",
    "    'min_samples_split': [1, 2, 3,4 ,5 ,6 ,7 ,8 ,9], # minimum number of samples to split on \n",
    "    'min_samples_leaf': [1, 2, 3, 4, 5, 6, 7], # minimum number of samples required to be a leaf node\n",
    "}\n",
    "\n",
    "# Random Tree classifier with above parameters and a 7-fold crossvalidation set, without the embarkment feature\n",
    "clf_rf_emb = GridSearchCV(RandomForestClassifier(), parameter_grid, cv = 7, verbose = 1)\n",
    "\n",
    "# Splitting the data set into a training set (80%) and a test set (20%)\n",
    "train_x_rf_emb, test_x_rf_emb, train_y_rf_emb, test_y_rf_emb = train_test_split(train_set_without_embarkment, \n",
    "                                                    survival_labels, \n",
    "                                                    test_size = 0.20,\n",
    "                                                    random_state = None) # seed used by the random number generator\n",
    "\n",
    "\n",
    "# Fit trains the Decision Tree on the training set\n",
    "clf_rf_emb = clf_rf_emb.fit(train_x_rf_emb, train_y_rf_emb)\n",
    "\n",
    "# Best Random Forest without place of embarkation estimator\n",
    "best_rf_emb_estimator = clf_rf_emb.best_estimator_\n",
    "\n",
    "# Printing the score on the training set\n",
    "print \"- The accuracy on the training set is %s percent\" % round(clf_rf_emb.score(train_x_rf_emb, train_y_rf_emb) * 100, 2)\n",
    "\n",
    "# The mean and standard deviation of the mean over the folds, and the best parameters.\n",
    "print \"- These are the mean and standard deviation over the folds, and a dictionary of the best parameters:\"\n",
    "print sorted(clf_rf_emb.grid_scores_, key=lambda x: x.mean_validation_score)[-1:]\n",
    "\n",
    "# Printing the best Random Forrest estimator.\n",
    "print \"\\n- The best Random Forrest estimator for the Titanic survival classification problem is:\"\n",
    "print clf_rf_emb.best_estimator_\n",
    "\n",
    "# Printing the percental importance of the features\n",
    "print \"\\n This is the percental importance of the features:\"\n",
    "print best_rf_emb_estimator.feature_importances_\n",
    "\n",
    "# Predict classifies the unseen examples (i.e. examples from the test set) on the best found classifier.\n",
    "predict_y_rf_emb = clf_rf_emb.predict(test_x_rf_emb)"
   ]
  },
  {
   "cell_type": "markdown",
   "metadata": {
    "collapsed": true
   },
   "source": [
    "###  ERROR ANALYSIS OF THE RANDOM FORESTS WITH PLACE OF EMBARKATION DROPPED"
   ]
  },
  {
   "cell_type": "code",
   "execution_count": 43,
   "metadata": {
    "collapsed": false
   },
   "outputs": [
    {
     "name": "stdout",
     "output_type": "stream",
     "text": [
      "This is the error analysis of the best found Random Forrest classifier with the place of embarkation dropped:\n",
      "\n",
      "- The accuracy on the test set for the best found classifier is 82.68 percent\n",
      "\n",
      "\n",
      "CONFUSION MATRIX\n",
      "\n",
      "               actual        \n",
      "       |     0    |    1     \n",
      "     --|----------|---------\n",
      "     0 | #TP : 50 | #FP: 8 \n",
      "pred --|----------|---------\n",
      "     1 | #FN : 23 | #TN: 98 \n",
      "\n",
      "\n",
      "\n",
      "PRECISION RECALL MATRIX\n",
      "\n",
      "             precision    recall  f1-score   support\n",
      "\n",
      "       Lost       0.81      0.92      0.86       106\n",
      "   Survived       0.86      0.68      0.76        73\n",
      "\n",
      "avg / total       0.83      0.83      0.82       179\n",
      "\n"
     ]
    }
   ],
   "source": [
    "print \"This is the error analysis of the best found Random Forrest classifier with the place of embarkation dropped:\\n\"\n",
    "error_analysis(test_y_rf_emb, predict_y_rf_emb)"
   ]
  },
  {
   "cell_type": "markdown",
   "metadata": {},
   "source": [
    "## Support Vector Machine classifier\n"
   ]
  },
  {
   "cell_type": "code",
   "execution_count": 44,
   "metadata": {
    "collapsed": false
   },
   "outputs": [
    {
     "name": "stdout",
     "output_type": "stream",
     "text": [
      "Fitting 7 folds for each of 320 candidates, totalling 2240 fits\n"
     ]
    },
    {
     "name": "stderr",
     "output_type": "stream",
     "text": [
      "[Parallel(n_jobs=1)]: Done  49 tasks       | elapsed:    0.6s\n",
      "[Parallel(n_jobs=1)]: Done 199 tasks       | elapsed:    2.8s\n",
      "[Parallel(n_jobs=1)]: Done 449 tasks       | elapsed:    6.4s\n",
      "[Parallel(n_jobs=1)]: Done 799 tasks       | elapsed:   12.5s\n",
      "[Parallel(n_jobs=1)]: Done 1249 tasks       | elapsed:   21.6s\n",
      "[Parallel(n_jobs=1)]: Done 1799 tasks       | elapsed:   45.8s\n"
     ]
    },
    {
     "name": "stdout",
     "output_type": "stream",
     "text": [
      "- The accuracy on the training set is 85.39 percent\n",
      "- These are the mean and standard deviation over the folds, and a dictionary of the best parameters:\n",
      "[mean: 0.83287, std: 0.05288, params: {'svc__gamma': 'auto', 'svc__degree': 3, 'svc__kernel': 'rbf', 'svc__C': 5, 'svc__decision_function_shape': 'ovr'}]\n",
      "\n",
      "- The best Support Vector Machine estimator for the Titanic survival classification problem is:\n",
      "Pipeline(steps=[('std', StandardScaler(copy=True, with_mean=True, with_std=True)), ('svc', SVC(C=5, cache_size=200, class_weight=None, coef0=0.0,\n",
      "  decision_function_shape='ovo', degree=2, gamma='auto', kernel='rbf',\n",
      "  max_iter=-1, probability=False, random_state=None, shrinking=True,\n",
      "  tol=0.001, verbose=False))])\n"
     ]
    },
    {
     "name": "stderr",
     "output_type": "stream",
     "text": [
      "[Parallel(n_jobs=1)]: Done 2240 out of 2240 | elapsed:  1.8min finished\n"
     ]
    }
   ],
   "source": [
    "# SVC classifier\n",
    "cls = SVC()\n",
    "\n",
    "# Pipeline can be used to use various kernels. \n",
    "classifiers = Pipeline([('std', StandardScaler()), # StandardScalar() standardizes features by removing the mean and scaling to unit variance \n",
    "                       ('svc', cls)])\n",
    "\n",
    "param_grid = [\n",
    "  {'svc__C': [1, 5, 10, 100], # penalty parameter C of the error term.\n",
    "   'svc__gamma': [0.01, 0.05, 0.1, 'auto', 0.2], # kernel coefficient for ‘rbf’, ‘poly’ and ‘sigmoid’. If gamma is ‘auto’ then 1/n_features will be used instead.\n",
    "   'svc__kernel': ['rbf', 'linear', 'sigmoid', 'poly'], # type of kernel\n",
    "   'svc__degree': [2, 3], # degree of the polynomial kernel function (‘poly’). Ignored by all other kernels.\n",
    "   'svc__decision_function_shape': ['ovo', 'ovr'], # Whether to return a one-vs-rest (‘ovr’) decision function, or the original one-vs-one (‘ovo’) decision function . \n",
    "}]\n",
    "\n",
    "# Using GridSearchCV to find the best Support Vector Machine classifier\n",
    "clf_svm = GridSearchCV(estimator = classifiers, \n",
    "                  param_grid = param_grid, \n",
    "                  scoring = 'accuracy', \n",
    "                  cv = 7, \n",
    "                  verbose = 1)\n",
    "\n",
    "# Splitting the data set into a training set (80%) and a test set (20%)\n",
    "train_x_svm, test_x_svm, train_y_svm, test_y_svm = train_test_split(data_set, survival_labels,\n",
    "                                                                    test_size=0.20, random_state=42)\n",
    "\n",
    "# Fit trains the Support Vector Machine on the training set\n",
    "clf_svm = clf_svm.fit(train_x_svm, train_y_svm)\n",
    "\n",
    "# Best SVM estimator\n",
    "best_svm_estimator = clf_svm.best_estimator_\n",
    "\n",
    "# Printing the score on the training set\n",
    "print \"- The accuracy on the training set is %s percent\" % round(clf_svm.score(train_x_svm, train_y_svm) * 100, 2)\n",
    "\n",
    "\n",
    "# The mean and standard deviation of the mean over the folds, and the best parameters.\n",
    "print \"- These are the mean and standard deviation over the folds, and a dictionary of the best parameters:\"\n",
    "print sorted(clf_svm.grid_scores_, key=lambda x: x.mean_validation_score)[-1:]\n",
    "\n",
    "# Printing the best Support Vector Machine estimator.\n",
    "print \"\\n- The best Support Vector Machine estimator for the Titanic survival classification problem is:\"\n",
    "print clf_svm.best_estimator_\n",
    "\n",
    "# Predict classifies the unseen examples (i.e. examples from the test set) on the best found classifier.\n",
    "predict_y_svm = clf_svm.predict(test_x_svm)"
   ]
  },
  {
   "cell_type": "markdown",
   "metadata": {},
   "source": [
    "###  ERROR ANALYSIS OF THE BEST SUPPORT VECTOR MACHINE ESTIMATOR"
   ]
  },
  {
   "cell_type": "code",
   "execution_count": 45,
   "metadata": {
    "collapsed": false
   },
   "outputs": [
    {
     "name": "stdout",
     "output_type": "stream",
     "text": [
      "This is the error analysis of the best found Support Vector Machine estimator with the place of embarkation dropped:\n",
      "\n",
      "- The accuracy on the test set for the best found classifier is 82.12 percent\n",
      "\n",
      "\n",
      "CONFUSION MATRIX\n",
      "\n",
      "               actual        \n",
      "       |     0    |    1     \n",
      "     --|----------|---------\n",
      "     0 | #TP : 51 | #FP: 9 \n",
      "pred --|----------|---------\n",
      "     1 | #FN : 23 | #TN: 96 \n",
      "\n",
      "\n",
      "\n",
      "PRECISION RECALL MATRIX\n",
      "\n",
      "             precision    recall  f1-score   support\n",
      "\n",
      "       Lost       0.81      0.91      0.86       105\n",
      "   Survived       0.85      0.69      0.76        74\n",
      "\n",
      "avg / total       0.82      0.82      0.82       179\n",
      "\n"
     ]
    }
   ],
   "source": [
    "print \"This is the error analysis of the best found Support Vector Machine estimator with the place of embarkation dropped:\\n\"\n",
    "error_analysis(test_y_svm, predict_y_svm)"
   ]
  },
  {
   "cell_type": "markdown",
   "metadata": {},
   "source": [
    "## Learning curve function"
   ]
  },
  {
   "cell_type": "code",
   "execution_count": 46,
   "metadata": {
    "collapsed": false
   },
   "outputs": [],
   "source": [
    "def plot_learning_curve(estimator, title, X, y, cv=7,\n",
    "                         train_sizes=np.linspace(.1, 1.0, 15)): \n",
    "    \"\"\"This function plots a learning curve for the training scores and\n",
    "    cross-validation scores of an estimator, showing 15 intermediate points.\n",
    "    Note that if the best estimator of a classifier is given as input to this\n",
    "    function, that the learning curves are not unique because each time this\n",
    "    function is called the 7-fold cross-validation regimes are chosen in a\n",
    "    different way.\"\"\"\n",
    "    plt.figure() # Initialize a figure\n",
    "    plt.title(title) # Plot the title\n",
    "    plt.xlabel(\"Training examples\") # Plot the x-label\n",
    "    plt.ylabel(\"Score\") # Plot the y-label\n",
    "    \n",
    "    # Gauging training and testing scores\n",
    "    train_sizes, train_scores, test_scores = learning_curve(\n",
    "        estimator, X, y, cv=cv, train_sizes=train_sizes)\n",
    "    \n",
    "    # The mean of the training scores\n",
    "    train_scores_mean = np.mean(train_scores, axis=1)\n",
    "    # The standard deviation of the training scores\n",
    "    train_scores_std = np.std(train_scores, axis=1)\n",
    "\n",
    "    # The mean of the test scores\n",
    "    test_scores_mean = np.mean(test_scores, axis=1)\n",
    "    # The standard deviation of the test scores\n",
    "    test_scores_std = np.std(test_scores, axis=1)\n",
    "    \n",
    "    # Plot a grid on the graph\n",
    "    plt.grid()\n",
    "\n",
    "    # Training curve\n",
    "    plt.fill_between(train_sizes, train_scores_mean - train_scores_std,\n",
    "                     train_scores_mean + train_scores_std, alpha=0.1,\n",
    "                     color=\"r\")\n",
    "    plt.fill_between(train_sizes, test_scores_mean - test_scores_std,\n",
    "                     test_scores_mean + test_scores_std, alpha=0.1, color=\"g\")\n",
    "    plt.plot(train_sizes, train_scores_mean, 'o-', color=\"r\",\n",
    "             label=\"Training score\")\n",
    "    \n",
    "    # Cross-validation curve\n",
    "    plt.plot(train_sizes, test_scores_mean, 'o-', color=\"g\",\n",
    "             label=\"Cross-validation score\")\n",
    "\n",
    "    plt.legend(loc=\"best\")\n",
    "    return plt"
   ]
  },
  {
   "cell_type": "code",
   "execution_count": 47,
   "metadata": {
    "collapsed": false
   },
   "outputs": [
    {
     "data": {
      "image/png": "[encoded data removed]",
      "text/plain": [
       "<matplotlib.figure.Figure at 0xba182e8>"
      ]
     },
     "metadata": {},
     "output_type": "display_data"
    },
    {
     "data": {
      "image/png": "[encoded data removed]",
      "text/plain": [
       "<matplotlib.figure.Figure at 0xc093160>"
      ]
     },
     "metadata": {},
     "output_type": "display_data"
    },
    {
     "data": {
      "image/png": "[encoded data removed]",
      "text/plain": [
       "<matplotlib.figure.Figure at 0xb8e8710>"
      ]
     },
     "metadata": {},
     "output_type": "display_data"
    },
    {
     "data": {
      "image/png": "[encoded data removed]",
      "text/plain": [
       "<matplotlib.figure.Figure at 0xc183f60>"
      ]
     },
     "metadata": {},
     "output_type": "display_data"
    }
   ],
   "source": [
    "# Learning curve for the best Decision Tree estimator.\n",
    "plot_learning_curve(best_dt_estimator, 'Learning Curve Decision Tree', train_x_dt, train_y_dt)\n",
    "plt.show()\n",
    "\n",
    "# Learning curve for the best Random Forrest estimator.\n",
    "plot_learning_curve(best_rf_estimator, 'Learning Curve Random Forrest', train_x_rf, train_y_rf)\n",
    "plt.show()\n",
    "\n",
    "# Learning curve for the best Random Forrest estimator without location of embarkation\n",
    "plot_learning_curve(best_rf_emb_estimator, 'Learning Curve Random Forrest Without Embarkation', train_x_rf_emb, train_y_rf_emb)\n",
    "plt.show()\n",
    "\n",
    "# Learning curve for the best Support Vector Machine Tree estimator.\n",
    "plot_learning_curve(best_svm_estimator, \"Learning Curve SVM\", train_x_svm, train_y_svm)\n",
    "plt.show()"
   ]
  },
  {
   "cell_type": "markdown",
   "metadata": {
    "collapsed": false
   },
   "source": [
    " "
   ]
  },
  {
   "cell_type": "markdown",
   "metadata": {
    "collapsed": true
   },
   "source": [
    "### ROC CURVES"
   ]
  },
  {
   "cell_type": "code",
   "execution_count": 48,
   "metadata": {
    "collapsed": false
   },
   "outputs": [
    {
     "data": {
      "image/png": "[encoded data removed]",
      "text/plain": [
       "<matplotlib.figure.Figure at 0xbf46550>"
      ]
     },
     "metadata": {},
     "output_type": "display_data"
    }
   ],
   "source": [
    "# For the best Decision Tree estimator\n",
    "fpr_dt, tpr_dt, _ = roc_curve(test_y_dt, predict_y_dt)\n",
    "\n",
    "# For the best Random Forrest estimator\n",
    "fpr_rf, tpr_rf, _ = roc_curve(test_y_rf, predict_y_rf)\n",
    "\n",
    "# For the best Random Forrest estimator without place of embarkation\n",
    "fpr_rf_emb, tpr_rf_emb, _ = roc_curve(test_y_rf_emb, predict_y_rf_emb)\n",
    "\n",
    "# For the best Support Vector Machine estimator\n",
    "fpr_svm, tpr_svm, _ = roc_curve(test_y_svm, predict_y_svm)\n",
    "\n",
    "\n",
    "plt.figure(1)\n",
    "plt.plot([0, 1], [0, 1], 'k--')\n",
    "plt.plot(fpr_dt, tpr_dt, label='DT')\n",
    "plt.plot(fpr_rf, tpr_rf, label='RF')\n",
    "plt.plot(fpr_rf_emb, tpr_rf_emb, label=\"RFE\")\n",
    "plt.plot(fpr_svm, tpr_svm, label='SVM')\n",
    "plt.xlabel('False positive rate')\n",
    "plt.ylabel('True positive rate')\n",
    "plt.title('ROC curve')\n",
    "plt.legend(loc='best')\n",
    "\n",
    "plt.show()\n"
   ]
  },
  {
   "cell_type": "code",
   "execution_count": null,
   "metadata": {
    "collapsed": true
   },
   "outputs": [],
   "source": []
  }
 ],
 "metadata": {
  "anaconda-cloud": {},
  "kernelspec": {
   "display_name": "Python [Root]",
   "language": "python",
   "name": "Python [Root]"
  },
  "language_info": {
   "codemirror_mode": {
    "name": "ipython",
    "version": 2
   },
   "file_extension": ".py",
   "mimetype": "text/x-python",
   "name": "python",
   "nbconvert_exporter": "python",
   "pygments_lexer": "ipython2",
   "version": "2.7.12"
  }
 },
 "nbformat": 4,
 "nbformat_minor": 0
}
